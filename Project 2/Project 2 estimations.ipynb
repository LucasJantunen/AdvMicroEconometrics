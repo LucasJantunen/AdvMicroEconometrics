{
 "cells": [
  {
   "cell_type": "markdown",
   "metadata": {},
   "source": [
    "# ESTIMATIONS AND RESULTS"
   ]
  },
  {
   "cell_type": "markdown",
   "metadata": {},
   "source": [
    "# Reset everything and redo data cleaning"
   ]
  },
  {
   "cell_type": "code",
   "execution_count": 120,
   "metadata": {},
   "outputs": [],
   "source": [
    "%reset -f"
   ]
  },
  {
   "cell_type": "code",
   "execution_count": 121,
   "metadata": {},
   "outputs": [],
   "source": [
    "import pandas as pd \n",
    "import numpy as np \n",
    "import numpy.linalg as la\n",
    "import statsmodels.formula.api as smf\n",
    "import matplotlib.pyplot as plt\n",
    "from sklearn.linear_model import Lasso\n",
    "from sklearn.linear_model import LassoCV\n",
    "from scipy.stats import norm\n",
    "from sklearn.preprocessing import PolynomialFeatures"
   ]
  },
  {
   "cell_type": "markdown",
   "metadata": {},
   "source": [
    "# Indlæser data og databehandler på samme måde som før"
   ]
  },
  {
   "cell_type": "code",
   "execution_count": 122,
   "metadata": {},
   "outputs": [
    {
     "name": "stdout",
     "output_type": "stream",
     "text": [
      "The data contains 214 rows (countries) and 85 columns (variables).\n"
     ]
    }
   ],
   "source": [
    "dat = pd.read_csv('growth.csv')\n",
    "lbldf = pd.read_csv('labels.csv', index_col='variable')\n",
    "lbl_all = lbldf.label.to_dict() # as a dictionary\n",
    "print(f'The data contains {dat.shape[0]} rows (countries) and {dat.shape[1]} columns (variables).')"
   ]
  },
  {
   "cell_type": "markdown",
   "metadata": {},
   "source": [
    "# Defines variable groups"
   ]
  },
  {
   "cell_type": "code",
   "execution_count": 123,
   "metadata": {},
   "outputs": [],
   "source": [
    "# all available variables\n",
    "vv_institutions = ['marketref', 'dem', 'demCGV', 'demBMR', 'demreg'] \n",
    "vv_geography = [\n",
    "        'tropicar','distr', 'distcr', 'distc','suitavg','temp', 'suitgini', 'elevavg', 'elevstd',\n",
    "        'kgatr', 'precip', 'area', 'abslat', 'cenlong', 'area_ar', 'rough','landlock', \n",
    "        'africa',  'asia', 'oceania', 'americas' # 'europe' is the reference\n",
    "]\n",
    "vv_geneticdiversity = ['pdiv', 'pdiv_aa', 'pdivhmi', 'pdivhmi_aa']\n",
    "vv_historical = ['pd1000', 'pd1500', 'pop1000', 'pop1500', 'ln_yst'] # these are often missing: ['pd1', 'pop1']\n",
    "vv_religion = ['pprotest', 'pcatholic', 'pmuslim']\n",
    "vv_danger = ['yellow', 'malfal',  'uvdamage'] # Diseases\n",
    "vv_resources = ['oilres', 'goldm', 'iron', 'silv', 'zinc']\n",
    "vv_educ = ['ls_bl', 'lh_bl'] # secondary, tertiary: we exclude 'lp_bl' (primary) to avoid rank failure \n",
    "\n",
    "vv_all = {'institutions': vv_institutions, \n",
    "          'geography': vv_geography, \n",
    "          'geneticdiversity': vv_geneticdiversity,\n",
    "          'historical': vv_historical,\n",
    "          'religion': vv_religion,\n",
    "          'danger':vv_danger, \n",
    "          'resources':vv_resources\n",
    "         }\n",
    "list_of_lists = vv_all.values()\n",
    "vv_all['all'] = [v for sublist in list_of_lists for v in sublist]\n",
    "\n",
    "# Variables we use\n",
    "# Institutions, geography, religion, danger (health), resources, education, pop growth\n",
    "\n",
    "# Code job for Lucas\n",
    "# Use variables choosen\n",
    "# Graph Lasso with different penalty levels\n",
    "# Lasso with CV, BRT and BCCH at difference penalty levels like in week 4 exercise\n",
    "# Use BRT and BCCH optimal penalty level and use dobbel lasso and post dobbelt lasso.\n",
    "\n"
   ]
  },
  {
   "cell_type": "markdown",
   "metadata": {},
   "source": [
    "# Removes countries with missing growth and initial gdp"
   ]
  },
  {
   "cell_type": "code",
   "execution_count": 124,
   "metadata": {},
   "outputs": [
    {
     "name": "stdout",
     "output_type": "stream",
     "text": [
      "Rows with missing ['gdp_growth', 'gdp_pc_initial'] (112 rows) have been removed.\n",
      "Remaining data has 102 rows.\n"
     ]
    }
   ],
   "source": [
    "from datetime import datetime\n",
    "\n",
    "# ---- configuration ----\n",
    "id_col = 'code'\n",
    "cols_to_check = ['gdp_growth', 'gdp_pc_initial']\n",
    "\n",
    "# ---- identify rows to remove / keep ----\n",
    "missing_mask = dat[cols_to_check].isnull().any(axis=1)\n",
    "removed = dat.loc[missing_mask].copy()\n",
    "kept = dat.loc[~missing_mask].copy()\n",
    "print(f\"Rows with missing {cols_to_check} ({removed.shape[0]} rows) have been removed.\")\n",
    "print(f\"Remaining data has {kept.shape[0]} rows.\")\n"
   ]
  },
  {
   "cell_type": "markdown",
   "metadata": {},
   "source": [
    "# Defines variables"
   ]
  },
  {
   "cell_type": "code",
   "execution_count": 125,
   "metadata": {},
   "outputs": [
    {
     "name": "stdout",
     "output_type": "stream",
     "text": [
      "Z_basic matrix shape: (72, 42)\n",
      "y vector shape: (72, 1)\n",
      "\n",
      "Missing values after filtering:\n",
      "gdp_pc_initial    0\n",
      "marketref         0\n",
      "dem               0\n",
      "demCGV            0\n",
      "demBMR            0\n",
      "demreg            0\n",
      "tropicar          0\n",
      "distr             0\n",
      "distcr            0\n",
      "distc             0\n",
      "suitavg           0\n",
      "temp              0\n",
      "suitgini          0\n",
      "elevavg           0\n",
      "elevstd           0\n",
      "kgatr             0\n",
      "precip            0\n",
      "area              0\n",
      "abslat            0\n",
      "cenlong           0\n",
      "area_ar           0\n",
      "rough             0\n",
      "landlock          0\n",
      "africa            0\n",
      "asia              0\n",
      "oceania           0\n",
      "americas          0\n",
      "pprotest          0\n",
      "pcatholic         0\n",
      "pmuslim           0\n",
      "yellow            0\n",
      "malfal            0\n",
      "uvdamage          0\n",
      "oilres            0\n",
      "goldm             0\n",
      "iron              0\n",
      "silv              0\n",
      "zinc              0\n",
      "ls_bl             0\n",
      "lh_bl             0\n",
      "pop_growth        0\n",
      "lgdp_initial      0\n",
      "pdiv              0\n",
      "gdp_growth        0\n",
      "dtype: int64\n"
     ]
    }
   ],
   "source": [
    "# Keep only interesting variables\n",
    "# Combining all variables we want to use\n",
    "vs = []\n",
    "vs.extend(vv_all['institutions'])  # Institutional variables\n",
    "vs.extend(vv_all['geography'])     # Geographic variables\n",
    "vs.extend(vv_all['religion'])      # Religious variables\n",
    "vs.extend(vv_all['danger'])        # Health/disease variables\n",
    "vs.extend(vv_all['resources'])     # Natural resource variables\n",
    "vs.extend(vv_educ)                 # Education variables\n",
    "vs.extend(['pop_growth'])          # Population growth\n",
    "vs.extend(['lgdp_initial'])        # Log gdp initial\n",
    "vs.extend(['pdiv'])              # Genetic diversity\n",
    "\n",
    "# Add our main variables of interest\n",
    "main_var = ['gdp_pc_initial']\n",
    "all_vars = main_var + vs + ['gdp_growth']\n",
    "\n",
    "# Only remove countries with missing values in our chosen variables\n",
    "complete_cases = dat[all_vars].notnull().all(axis=1)\n",
    "kept = dat[complete_cases].copy()\n",
    "\n",
    "\n",
    "# Prepare data for Lasso\n",
    "y = kept['gdp_growth'].values.reshape((-1,1)) * 100.0  # Convert to percentage\n",
    "Z_basic = kept[vs].values       # All variables except the dependent\n",
    "d = kept['gdp_pc_initial'].values # Our beta variable\n",
    "\n",
    "Xnames = list(kept[['gdp_pc_initial'] + vs].columns)\n",
    "\n",
    "# Print dimensions of our matrices\n",
    "print(f'Z_basic matrix shape: {Z_basic.shape}')\n",
    "print(f'y vector shape: {y.shape}')\n",
    "\n",
    "# Display number of regressors\n",
    "#print(\"The number of regressors in Z is {}\".format(Z.shape[1]))\n",
    "\n",
    "# Verify no missing values remain in our variables of interest\n",
    "print(\"\\nMissing values after filtering:\")\n",
    "print(kept[all_vars].isnull().sum())\n"
   ]
  },
  {
   "cell_type": "markdown",
   "metadata": {},
   "source": [
    "# Removes 3 variables with multicolirations"
   ]
  },
  {
   "cell_type": "code",
   "execution_count": 126,
   "metadata": {},
   "outputs": [
    {
     "name": "stdout",
     "output_type": "stream",
     "text": [
      "Shape of Z with degree k: (72, 819)\n",
      "Dropped columns: ['uvdamage', 'demCGV', 'demBMR']\n",
      "X shape: (72, 40)\n",
      "d shape: (72,)\n",
      "First X names: ['gdp_pc_initial', 'marketref', 'dem', 'demreg', 'tropicar', 'distr', 'distcr', 'distc', 'suitavg', 'temp']\n",
      "First X_pol names (polynomial): ['gdp_pc_initial', 'Z0', 'Z1', 'Z2', 'Z3', 'Z4', 'Z5', 'Z6', 'Z7', 'Z8']\n"
     ]
    }
   ],
   "source": [
    "# Drop unwanted variables from the kept DataFrame and update related arrays/lists\n",
    "cols_to_drop = ['uvdamage', 'demCGV', 'demBMR']\n",
    "# We drop these, as they are very correlated with other variables, leading to multicollinearity issues.\n",
    "\n",
    "# Drop from kept if present\n",
    "for c in cols_to_drop:\n",
    "    if c in kept.columns:\n",
    "        kept.drop(columns=c, inplace=True)\n",
    "\n",
    "# Remove from vs (controls) if present\n",
    "vs = [v for v in vs if v not in cols_to_drop]\n",
    "\n",
    "# Rebuild X, d, Z and Xnames consistent with the dropped variables\n",
    "Z_basic = kept[vs].values\n",
    "d = kept['gdp_pc_initial'].values\n",
    "\n",
    "# Defines X\n",
    "X = np.column_stack((d, Z_basic))\n",
    "Xnames = list(kept[['gdp_pc_initial'] + vs].columns)\n",
    "\n",
    "# Also makes polynomial for Z\n",
    "Z = PolynomialFeatures(2, include_bias=False).fit_transform(Z_basic)\n",
    "print(\"Shape of Z with degree k:\", Z.shape)\n",
    "X_pol = np.column_stack((d, Z))\n",
    "Xnames_pol = ['gdp_pc_initial'] + [f'Z{i}' for i in range(Z.shape[1])]\n",
    "\n",
    "# Find N\n",
    "N = X.shape[0]\n",
    "N_pol = X_pol.shape[0]\n",
    "\n",
    "# Update variable name lists if they exist in the namespace\n",
    "for name in ('variable_names', 'var_names', 'var_names_reduced', 'vars_no_const'):\n",
    "    if name in globals():\n",
    "        globals()[name] = [v for v in globals()[name] if v not in cols_to_drop]\n",
    "\n",
    "print(\"Dropped columns:\", [c for c in cols_to_drop if c not in kept.columns])\n",
    "print(\"X shape:\", X.shape)\n",
    "print(\"d shape:\", d.shape)\n",
    "\n",
    "print(\"First X names:\", Xnames[:10])\n",
    "print(\"First X_pol names (polynomial):\", Xnames_pol[:10])"
   ]
  },
  {
   "cell_type": "code",
   "execution_count": null,
   "metadata": {},
   "outputs": [],
   "source": []
  },
  {
   "cell_type": "markdown",
   "metadata": {},
   "source": [
    "# Makes Standarization"
   ]
  },
  {
   "cell_type": "code",
   "execution_count": 127,
   "metadata": {},
   "outputs": [
    {
     "name": "stderr",
     "output_type": "stream",
     "text": [
      "C:\\Users\\lucas\\AppData\\Local\\Temp\\ipykernel_13076\\294159085.py:4: RuntimeWarning: invalid value encountered in divide\n",
      "  X_stan = (X - np.mean(X, axis=0))/np.std(X, axis=0, ddof=1)\n"
     ]
    }
   ],
   "source": [
    "# Create a function for standardizing\n",
    "def standardize(X):\n",
    "\n",
    "    X_stan = (X - np.mean(X, axis=0))/np.std(X, axis=0, ddof=1)\n",
    "    return X_stan\n",
    "\n",
    "# Standardize data\n",
    "X_stan = standardize(X)\n",
    "X_pol_stan = standardize(X_pol)\n",
    "Z_stan = standardize(Z_basic)\n",
    "Z_stan_pol = standardize(Z)\n",
    "d_stan = standardize(d)"
   ]
  },
  {
   "cell_type": "code",
   "execution_count": 128,
   "metadata": {},
   "outputs": [
    {
     "name": "stdout",
     "output_type": "stream",
     "text": [
      "Mean y =  1.58% growth per year\n",
      "Mean d =  6677.53 log initial GDP per capita\n"
     ]
    }
   ],
   "source": [
    "# Tests\n",
    "print(f'Mean y = {y.mean(): 5.2f}% growth per year')\n",
    "print(f'Mean d = {d.mean(): 5.2f} log initial GDP per capita')\n"
   ]
  },
  {
   "cell_type": "markdown",
   "metadata": {},
   "source": [
    "# 1: OLS"
   ]
  },
  {
   "cell_type": "code",
   "execution_count": 129,
   "metadata": {},
   "outputs": [
    {
     "name": "stdout",
     "output_type": "stream",
     "text": [
      "alpha_OLS =  3.5e-05\n"
     ]
    }
   ],
   "source": [
    "# Add a constant to X\n",
    "xx = np.column_stack((np.ones(N),X))\n",
    "\n",
    "# Reshape y\n",
    "yy = np.array(y).reshape(-1,1)\n",
    "\n",
    "# Calculate OLS estimate\n",
    "coefs_OLS = la.inv(xx.T@xx)@xx.T@yy\n",
    "alpha_OLS = coefs_OLS[1][0]\n",
    "\n",
    "# Calculate residuals\n",
    "res_OLS = yy - xx@coefs_OLS\n",
    "\n",
    "# Display alpha\n",
    "print(\"alpha_OLS = \",alpha_OLS.round(6))"
   ]
  },
  {
   "cell_type": "markdown",
   "metadata": {},
   "source": [
    "# Double Post Lasso no polynomial"
   ]
  },
  {
   "cell_type": "markdown",
   "metadata": {},
   "source": [
    "Define BRT penalty"
   ]
  },
  {
   "cell_type": "code",
   "execution_count": 130,
   "metadata": {},
   "outputs": [],
   "source": [
    "# Make a function that calculates BRT. Hint: You implemented a version of this last week\n",
    "def BRT(X_tilde,y):\n",
    "    (N,p) = X_tilde.shape\n",
    "    sigma = np.std(y, ddof=1)\n",
    "    c=1.1\n",
    "    alpha=0.05\n",
    "\n",
    "    penalty_BRT= (sigma*c)/np.sqrt(N)*norm.ppf(1-alpha/(2*p))\n",
    "\n",
    "    return penalty_BRT"
   ]
  },
  {
   "cell_type": "code",
   "execution_count": 131,
   "metadata": {},
   "outputs": [
    {
     "name": "stdout",
     "output_type": "stream",
     "text": [
      "lambda_BRT = 0.6\n"
     ]
    }
   ],
   "source": [
    "# Calculate BRT\n",
    "penalty_BRTyx = BRT(X_stan, y)\n",
    "print(\"lambda_BRT =\",penalty_BRTyx.round(2))"
   ]
  },
  {
   "cell_type": "markdown",
   "metadata": {},
   "source": [
    "BCCH"
   ]
  },
  {
   "cell_type": "code",
   "execution_count": 132,
   "metadata": {},
   "outputs": [],
   "source": [
    "def BCCH(X,y):\n",
    "\n",
    "    n,p = X.shape\n",
    "    c = 1.1; alpha = 0.05\n",
    "\n",
    "    coef_pilot = Lasso(alpha).fit(X,y).coef_\n",
    "    coef_intercept = Lasso(alpha).fit(X,y).intercept_\n",
    "    pred = (coef_intercept + X@coef_pilot)\n",
    "\n",
    "    res = y - pred\n",
    "\n",
    "    resXscale = (np.max((X.T ** 2.0) @ (res ** 2.0) / n)) ** 0.5\n",
    "    lambda_bcch = c*norm.ppf(1.0-alpha/(2.0*p))*resXscale/np.sqrt(n)    \n",
    "    penalty_BCCH = lambda_bcch\n",
    "\n",
    "    return penalty_BCCH  "
   ]
  },
  {
   "cell_type": "code",
   "execution_count": 133,
   "metadata": {},
   "outputs": [
    {
     "name": "stdout",
     "output_type": "stream",
     "text": [
      "lambda_BCCH = 2.42\n"
     ]
    }
   ],
   "source": [
    "# Calculate BCCH\n",
    "penalty_BCCH  = BCCH(X_stan, y)\n",
    "print(\"lambda_BCCH =\",penalty_BCCH.round(2))"
   ]
  },
  {
   "cell_type": "code",
   "execution_count": 134,
   "metadata": {},
   "outputs": [
    {
     "name": "stdout",
     "output_type": "stream",
     "text": [
      "First coefficient = -0.0\n"
     ]
    }
   ],
   "source": [
    "# Run Lasso \n",
    "fit_BRTyx = Lasso(penalty_BRTyx, max_iter=10000).fit(X_stan, y)\n",
    "coefs=fit_BRTyx.coef_\n",
    "\n",
    "# Calculate residuals\n",
    "resyx = y-fit_BRTyx.predict(X_stan)\n",
    "\n",
    "# Calculate Y - Z@gamma (epsilon + alpha*d)\n",
    "# Hint: You only need the variables given to you in this cell, in addition\n",
    "# to a standardized data set you made previoously.\n",
    "resyxz = resyx + d_stan*coefs[0]\n",
    "\n",
    "# Display first coefficient\n",
    "print(\"First coefficient =\",coefs[0].round(5))"
   ]
  },
  {
   "cell_type": "markdown",
   "metadata": {},
   "source": [
    "Calculates BRT for treatment"
   ]
  },
  {
   "cell_type": "code",
   "execution_count": 138,
   "metadata": {},
   "outputs": [],
   "source": [
    "# Calculate BRT\n",
    "penalty_BRTdz = BRT(Z_stan, d)"
   ]
  },
  {
   "cell_type": "code",
   "execution_count": null,
   "metadata": {},
   "outputs": [
    {
     "name": "stdout",
     "output_type": "stream",
     "text": [
      "[ 7084.18058853 26120.62107297 19573.86716246 19807.72539172\n",
      "   795.15641066  1399.51518635  4704.31756123   601.91744846\n",
      "  4552.25558836   228.51534634  1940.40147513   930.99026227\n",
      "  2879.25125707  3732.06314988 19681.32338568 30541.92957522\n",
      "  1699.03077242  2708.46404566  2487.73368819   730.42301601\n",
      " 13571.9176367  18267.45802309 19984.58614096  7205.8702031\n",
      " 17874.81341695  1077.13956926   743.21646832 13279.29421718\n",
      "  1897.29751549  2948.84762406  1309.80325758   772.12967809\n",
      "   396.01169193 12730.4260683   6965.44390263 17671.33697522\n",
      "   598.45742617  1793.44928787   711.83955457  1019.25200138\n",
      "  5524.27238582   360.78973466   170.71763681  2004.32812096\n",
      "   293.15515174  1915.87155007   817.3483333   2162.74450459\n",
      " 24519.60923614 32244.64637681   284.41456431   469.43771537\n",
      "  3434.72613789  3352.03480769  1305.15163407  8759.96732015\n",
      "  1726.89912219   355.80836447 22133.91201239  1207.32022755\n",
      "   476.5572005   2554.18438196 26656.77933081   621.80626228\n",
      "   929.09371124  1253.38382975  4221.02166828  5670.61878769\n",
      " 23207.21993719  6244.08135791  1580.82873949  1305.14533925]\n",
      "First coefficient = 0.0\n"
     ]
    }
   ],
   "source": [
    "# Run Lasso\n",
    "fit_BRTdz = Lasso(penalty_BRTdz, max_iter=10000).fit(Z_stan, d)\n",
    "coefs=fit_BRTdz.coef_\n",
    "\n",
    "# Calculate residuals\n",
    "resdz=d-fit_BRTdz.predict(Z_stan)\n",
    "\n",
    "# Display first coefficient\n",
    "print(\"First coefficient =\",coefs[0].round(2))"
   ]
  },
  {
   "cell_type": "markdown",
   "metadata": {},
   "source": [
    "Estimates alpha"
   ]
  },
  {
   "cell_type": "code",
   "execution_count": 140,
   "metadata": {},
   "outputs": [
    {
     "name": "stdout",
     "output_type": "stream",
     "text": [
      "alpha_PDL =  [0. 0. 0. 0. 0. 0. 0. 0. 0. 0. 0. 0. 0. 0. 0. 0. 0. 0. 0. 0. 0. 0. 0. 0.\n",
      " 0. 0. 0. 0. 0. 0. 0. 0. 0. 0. 0. 0. 0. 0. 0. 0. 0. 0. 0. 0. 0. 0. 0. 0.\n",
      " 0. 0. 0. 0. 0. 0. 0. 0. 0. 0. 0. 0. 0. 0. 0. 0. 0. 0. 0. 0. 0. 0. 0. 0.]\n"
     ]
    }
   ],
   "source": [
    "# Calculate alpha\n",
    "num = resdz@resyxz\n",
    "denom = resdz@d\n",
    "alpha_PDL = num/denom\n",
    "\n",
    "# Display alpha\n",
    "print(\"alpha_PDL = \",alpha_PDL.round(2))"
   ]
  }
 ],
 "metadata": {
  "kernelspec": {
   "display_name": "base",
   "language": "python",
   "name": "python3"
  },
  "language_info": {
   "codemirror_mode": {
    "name": "ipython",
    "version": 3
   },
   "file_extension": ".py",
   "mimetype": "text/x-python",
   "name": "python",
   "nbconvert_exporter": "python",
   "pygments_lexer": "ipython3",
   "version": "3.11.7"
  }
 },
 "nbformat": 4,
 "nbformat_minor": 4
}
